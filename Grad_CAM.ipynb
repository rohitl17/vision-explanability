{
 "cells": [
  {
   "cell_type": "code",
   "execution_count": 1,
   "metadata": {},
   "outputs": [
    {
     "name": "stderr",
     "output_type": "stream",
     "text": [
      "Using TensorFlow backend.\n"
     ]
    }
   ],
   "source": [
    "import numpy as np\n",
    "import pandas as pd\n",
    "import pickle\n",
    "import matplotlib.pyplot as plt\n",
    "from keras.layers import Flatten, Dense, GlobalAveragePooling2D,Dropout,Conv2D\n",
    "from keras.applications.densenet import DenseNet121\n",
    "from keras.models import Model\n",
    "import keras.backend as K\n",
    "from sklearn.metrics import roc_auc_score\n",
    "import cv2\n",
    "import os\n",
    "import random\n",
    "from sklearn.utils import shuffle\n",
    "from keras.applications.mobilenetv2 import MobileNetV2\n",
    "from keras.callbacks import Callback,ModelCheckpoint\n",
    "import pydicom\n",
    "from keras.models import *\n",
    "from keras.layers import *\n",
    "from keras.optimizers import *\n",
    "from keras.losses import binary_crossentropy\n",
    "from keras.utils import Sequence\n",
    "from keras import backend as keras\n",
    "from keras.preprocessing.image import ImageDataGenerator\n",
    "from glob import glob\n",
    "from tqdm import tqdm\n",
    "%matplotlib inline"
   ]
  },
  {
   "cell_type": "code",
   "execution_count": 3,
   "metadata": {},
   "outputs": [],
   "source": [
    "def get_score_and_interm_output(cv2_input_image, DenseNetImageNet121_model):\n",
    "\n",
    "    width, height, _ = cv2_input_image.shape\n",
    "    class_weights = DenseNetImageNet121_model.layers[-1].get_weights()[0]\n",
    "    final_conv_layer = DenseNetImageNet121_model.layers[-3]\n",
    "    get_output = K.function([DenseNetImageNet121_model.layers[0].input], \n",
    "                            [final_conv_layer.output, \\\n",
    "                             DenseNetImageNet121_model.layers[-1].output])\n",
    "    [conv_outputs, prediction] = get_output([cv2_input_image[None,:,:,:]])\n",
    "    conv_outputs = conv_outputs[0, :, :, :]\n",
    "    prediction = prediction[0,:]\n",
    "    \n",
    "    return prediction,conv_outputs,class_weights\n",
    "\n",
    "def get_cam_picture(prediction,conv_outputs,class_weights,dis_idx):\n",
    "    #Create the class activation map.\n",
    "    all_cams = []\n",
    "    for m in dis_idx:\n",
    "        predicted_disease = m\n",
    "        cam = np.zeros(dtype = np.float32, shape = conv_outputs.shape[:2])\n",
    "        for i, w in enumerate(class_weights[:, predicted_disease]):\n",
    "                cam += w * conv_outputs[:, :, i]\n",
    "        cam = cv2.resize(cam,(224,224))\n",
    "        all_cams.append(cam)\n",
    "    \n",
    "    return all_cams"
   ]
  },
  {
   "cell_type": "code",
   "execution_count": 4,
   "metadata": {},
   "outputs": [],
   "source": [
    "def cam_predict(img, model):\n",
    "    img = img\n",
    "    #cls_idx, true_cls = all_cls(Y_test[idx])\n",
    "    preds,conv_outputs,class_weights = get_score_and_interm_output(img,model)\n",
    "    dis_probs = {}\n",
    "    dis_idx = []\n",
    "    for idx,x in enumerate(preds):\n",
    "        if(x>0.1):\n",
    "            dis_idx.append(idx)\n",
    "            dis_probs[cls[idx]] = x\n",
    "    \n",
    "    dis_idx = np.array(dis_idx)\n",
    "    all_cams = get_cam_picture(preds,conv_outputs,class_weights,dis_idx)\n",
    "    \n",
    "    fig, ax_arr = plt.subplots(1,len(dis_idx)+1, sharex=True, sharey=True,figsize=(5,5))\n",
    "    fig.set_size_inches(30,30)\n",
    "    ax_arr[0].imshow(img)\n",
    "    res = img\n",
    "    for i in range(0,len(dis_probs)):\n",
    "\n",
    "        ax_arr[i+1].imshow(img[:,:,0],cmap='gray')\n",
    "        ax_arr[i+1].imshow(all_cams[i], alpha=0.6)\n",
    "        dis_name = cls[dis_idx][i]\n",
    "        ax_arr[i+1].text(0.5,0.1,\"{0} : {1}\".format(dis_name,np.round(dis_probs[dis_name]*100)),fontsize=14,verticalalignment='center',horizontalalignment='center', transform=ax_arr[i+1].transAxes)\n",
    "        ax_arr[i+1].axis(\"off\")\n",
    "        #ax_arr[i].title(true_cls[i])\n",
    "    #return res,all_cams  "
   ]
  }
 ],
 "metadata": {
  "kernelspec": {
   "display_name": "Python 3",
   "language": "python",
   "name": "python3"
  },
  "language_info": {
   "codemirror_mode": {
    "name": "ipython",
    "version": 3
   },
   "file_extension": ".py",
   "mimetype": "text/x-python",
   "name": "python",
   "nbconvert_exporter": "python",
   "pygments_lexer": "ipython3",
   "version": "3.8.8"
  }
 },
 "nbformat": 4,
 "nbformat_minor": 2
}
